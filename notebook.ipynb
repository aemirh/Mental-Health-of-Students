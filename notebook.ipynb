{
  "cells": [
    {
      "source": "Does going to university in a different country affect your mental health? A Japanese international university surveyed its students in 2018 and published a study the following year that was approved by several ethical and regulatory boards.\n\nThe study found that international students have a higher risk of mental health difficulties than the general population, and that social connectedness (belonging to a social group) and acculturative stress (stress associated with joining a new culture) are predictive of depression.\n\n\nExplore the `students` data using PostgreSQL to find out if you would come to a similar conclusion for international students and see if the length of stay is a contributing factor.\n\nHere is a data description of the columns you may find helpful.",
      "metadata": {},
      "id": "dbd633ea-2c0a-4bac-a6fe-0cc86896162b",
      "cell_type": "markdown"
    },
    {
      "source": "| Field Name    | Description                                      |\n| ------------- | ------------------------------------------------ |\n| `inter_dom`     | Types of students (international or domestic)   |\n| `japanese_cate` | Japanese language proficiency                    |\n| `english_cate`  | English language proficiency                     |\n| `academic`      | Current academic level (undergraduate or graduate) |\n| `age`           | Current age of student                           |\n| `stay`          | Current length of stay in years                  |\n| `todep`         | Total score of depression (PHQ-9 test)           |\n| `tosc`          | Total score of social connectedness (SCS test)   |\n| `toas`          | Total score of acculturative stress (ASISS test) |",
      "metadata": {},
      "id": "167d9c0e-7aba-4e44-99e3-679159e28970",
      "cell_type": "markdown"
    },
    {
      "source": "-- Run this code to view the data in students\nSELECT * \nFROM students\nLIMIT 2;",
      "metadata": {
        "customType": "sql",
        "dataFrameVariableName": "students",
        "sqlCellMode": "dataFrame",
        "sqlSource": {
          "integrationId": "89e17161-a224-4a8a-846b-0adc0fe7a4b1",
          "integrationType": "postgresql",
          "type": "integration"
        },
        "executionTime": null,
        "lastSuccessfullyExecutedCode": null,
        "executionCancelledAt": null,
        "lastExecutedAt": null,
        "lastExecutedByKernel": null,
        "lastScheduledRunId": null,
        "outputsMetadata": {
          "0": {
            "height": 550,
            "type": "dataFrame",
            "tableState": {
              "customFilter": {
                "const": {
                  "type": "boolean",
                  "valid": true,
                  "value": true
                },
                "id": "31563095-7185-4167-8767-308478b6b800",
                "nodeType": "const"
              }
            },
            "chartState": {
              "chartModel": {
                "modelType": "range",
                "chartId": "id-xlirv5f0ij",
                "chartType": "groupedColumn",
                "chartThemeName": "datalabTheme",
                "chartOptions": {
                  "common": {
                    "animation": {
                      "enabled": true
                    }
                  }
                },
                "chartPalette": {
                  "fills": [
                    "#6568A0",
                    "#43D7A4",
                    "#4095DB",
                    "#FACC5F",
                    "#CAE279",
                    "#F08083",
                    "#5BCDF2",
                    "#F099DC",
                    "#965858",
                    "#7DB64F",
                    "#A98954"
                  ],
                  "strokes": [
                    "#6568A0",
                    "#43D7A4",
                    "#4095DB",
                    "#FACC5F",
                    "#CAE279",
                    "#F08083",
                    "#5BCDF2",
                    "#F099DC",
                    "#965858",
                    "#7DB64F",
                    "#A98954"
                  ],
                  "up": {
                    "fill": "#459d55",
                    "stroke": "#1e652e"
                  },
                  "down": {
                    "fill": "#ef5452",
                    "stroke": "#a82529"
                  },
                  "neutral": {
                    "fill": "#b5b5b5",
                    "stroke": "#575757"
                  },
                  "altUp": {
                    "fill": "#5090dc",
                    "stroke": "#2b5c95"
                  },
                  "altDown": {
                    "fill": "#ffa03a",
                    "stroke": "#cc6f10"
                  },
                  "altNeutral": {
                    "fill": "#b5b5b5",
                    "stroke": "#575757"
                  }
                },
                "cellRange": {
                  "rowStartIndex": null,
                  "rowStartPinned": null,
                  "rowEndIndex": null,
                  "rowEndPinned": null,
                  "columns": []
                },
                "switchCategorySeries": false,
                "suppressChartRanges": false,
                "unlinkChart": false,
                "version": "32.2.2"
              },
              "rangeChartModel": {
                "rangeColumns": [],
                "switchCategorySeries": false
              }
            }
          }
        },
        "visualizeDataframe": false,
        "version": "ag-charts-v1",
        "collapsed": false,
        "jupyter": {
          "outputs_hidden": false,
          "source_hidden": false
        }
      },
      "id": "a60a4d75-634c-4965-8e01-804780e6df98",
      "cell_type": "code",
      "execution_count": 23,
      "outputs": [
        {
          "output_type": "execute_result",
          "data": {
            "application/com.datacamp.data-table.v2+json": {
              "table": {
                "schema": {
                  "fields": [
                    {
                      "name": "index",
                      "type": "integer"
                    },
                    {
                      "name": "inter_dom",
                      "type": "string"
                    },
                    {
                      "name": "region",
                      "type": "string"
                    },
                    {
                      "name": "gender",
                      "type": "string"
                    },
                    {
                      "name": "academic",
                      "type": "string"
                    },
                    {
                      "name": "age",
                      "type": "integer"
                    },
                    {
                      "name": "age_cate",
                      "type": "integer"
                    },
                    {
                      "name": "stay",
                      "type": "integer"
                    },
                    {
                      "name": "stay_cate",
                      "type": "string"
                    },
                    {
                      "name": "japanese",
                      "type": "integer"
                    },
                    {
                      "name": "japanese_cate",
                      "type": "string"
                    },
                    {
                      "name": "english",
                      "type": "integer"
                    },
                    {
                      "name": "english_cate",
                      "type": "string"
                    },
                    {
                      "name": "intimate",
                      "type": "number"
                    },
                    {
                      "name": "religion",
                      "type": "string"
                    },
                    {
                      "name": "suicide",
                      "type": "string"
                    },
                    {
                      "name": "dep",
                      "type": "string"
                    },
                    {
                      "name": "deptype",
                      "type": "string"
                    },
                    {
                      "name": "todep",
                      "type": "integer"
                    },
                    {
                      "name": "depsev",
                      "type": "string"
                    },
                    {
                      "name": "tosc",
                      "type": "integer"
                    },
                    {
                      "name": "apd",
                      "type": "integer"
                    },
                    {
                      "name": "ahome",
                      "type": "integer"
                    },
                    {
                      "name": "aph",
                      "type": "integer"
                    },
                    {
                      "name": "afear",
                      "type": "integer"
                    },
                    {
                      "name": "acs",
                      "type": "integer"
                    },
                    {
                      "name": "aguilt",
                      "type": "integer"
                    },
                    {
                      "name": "amiscell",
                      "type": "integer"
                    },
                    {
                      "name": "toas",
                      "type": "integer"
                    },
                    {
                      "name": "partner",
                      "type": "integer"
                    },
                    {
                      "name": "friends",
                      "type": "integer"
                    },
                    {
                      "name": "parents",
                      "type": "integer"
                    },
                    {
                      "name": "relative",
                      "type": "integer"
                    },
                    {
                      "name": "profess",
                      "type": "integer"
                    },
                    {
                      "name": "phone",
                      "type": "integer"
                    },
                    {
                      "name": "doctor",
                      "type": "integer"
                    },
                    {
                      "name": "reli",
                      "type": "integer"
                    },
                    {
                      "name": "alone",
                      "type": "integer"
                    },
                    {
                      "name": "others",
                      "type": "integer"
                    },
                    {
                      "name": "internet",
                      "type": "number"
                    },
                    {
                      "name": "partner_bi",
                      "type": "string"
                    },
                    {
                      "name": "friends_bi",
                      "type": "string"
                    },
                    {
                      "name": "parents_bi",
                      "type": "string"
                    },
                    {
                      "name": "relative_bi",
                      "type": "string"
                    },
                    {
                      "name": "professional_bi",
                      "type": "string"
                    },
                    {
                      "name": "phone_bi",
                      "type": "string"
                    },
                    {
                      "name": "doctor_bi",
                      "type": "string"
                    },
                    {
                      "name": "religion_bi",
                      "type": "string"
                    },
                    {
                      "name": "alone_bi",
                      "type": "string"
                    },
                    {
                      "name": "others_bi",
                      "type": "string"
                    },
                    {
                      "name": "internet_bi",
                      "type": "string"
                    }
                  ],
                  "primaryKey": [
                    "index"
                  ],
                  "pandas_version": "1.4.0"
                },
                "data": {
                  "index": [
                    0,
                    1
                  ],
                  "inter_dom": [
                    "Inter",
                    "Inter"
                  ],
                  "region": [
                    "SEA",
                    "SEA"
                  ],
                  "gender": [
                    "Male",
                    "Male"
                  ],
                  "academic": [
                    "Grad",
                    "Grad"
                  ],
                  "age": [
                    24,
                    28
                  ],
                  "age_cate": [
                    4,
                    5
                  ],
                  "stay": [
                    5,
                    1
                  ],
                  "stay_cate": [
                    "Long",
                    "Short"
                  ],
                  "japanese": [
                    3,
                    4
                  ],
                  "japanese_cate": [
                    "Average",
                    "High"
                  ],
                  "english": [
                    5,
                    4
                  ],
                  "english_cate": [
                    "High",
                    "High"
                  ],
                  "intimate": [
                    null,
                    null
                  ],
                  "religion": [
                    "Yes",
                    "No"
                  ],
                  "suicide": [
                    "No",
                    "No"
                  ],
                  "dep": [
                    "No",
                    "No"
                  ],
                  "deptype": [
                    "No",
                    "No"
                  ],
                  "todep": [
                    0,
                    2
                  ],
                  "depsev": [
                    "Min",
                    "Min"
                  ],
                  "tosc": [
                    34,
                    48
                  ],
                  "apd": [
                    23,
                    8
                  ],
                  "ahome": [
                    9,
                    7
                  ],
                  "aph": [
                    11,
                    5
                  ],
                  "afear": [
                    8,
                    4
                  ],
                  "acs": [
                    11,
                    3
                  ],
                  "aguilt": [
                    2,
                    2
                  ],
                  "amiscell": [
                    27,
                    10
                  ],
                  "toas": [
                    91,
                    39
                  ],
                  "partner": [
                    5,
                    7
                  ],
                  "friends": [
                    5,
                    7
                  ],
                  "parents": [
                    6,
                    7
                  ],
                  "relative": [
                    3,
                    4
                  ],
                  "profess": [
                    2,
                    4
                  ],
                  "phone": [
                    1,
                    4
                  ],
                  "doctor": [
                    4,
                    4
                  ],
                  "reli": [
                    1,
                    1
                  ],
                  "alone": [
                    3,
                    1
                  ],
                  "others": [
                    4,
                    1
                  ],
                  "internet": [
                    null,
                    null
                  ],
                  "partner_bi": [
                    "Yes",
                    "Yes"
                  ],
                  "friends_bi": [
                    "Yes",
                    "Yes"
                  ],
                  "parents_bi": [
                    "Yes",
                    "Yes"
                  ],
                  "relative_bi": [
                    "No",
                    "No"
                  ],
                  "professional_bi": [
                    "No",
                    "No"
                  ],
                  "phone_bi": [
                    "No",
                    "No"
                  ],
                  "doctor_bi": [
                    "No",
                    "No"
                  ],
                  "religion_bi": [
                    "No",
                    "No"
                  ],
                  "alone_bi": [
                    "No",
                    "No"
                  ],
                  "others_bi": [
                    "No",
                    "No"
                  ],
                  "internet_bi": [
                    "No",
                    "No"
                  ]
                }
              },
              "total_rows": 2,
              "truncation_type": null
            },
            "text/plain": "  inter_dom region gender academic  ...  religion_bi  alone_bi  others_bi internet_bi\n0     Inter    SEA   Male     Grad  ...           No        No         No          No\n1     Inter    SEA   Male     Grad  ...           No        No         No          No\n\n[2 rows x 50 columns]",
            "text/html": "<div>\n<style scoped>\n    .dataframe tbody tr th:only-of-type {\n        vertical-align: middle;\n    }\n\n    .dataframe tbody tr th {\n        vertical-align: top;\n    }\n\n    .dataframe thead th {\n        text-align: right;\n    }\n</style>\n<table border=\"1\" class=\"dataframe\">\n  <thead>\n    <tr style=\"text-align: right;\">\n      <th></th>\n      <th>inter_dom</th>\n      <th>region</th>\n      <th>gender</th>\n      <th>academic</th>\n      <th>age</th>\n      <th>age_cate</th>\n      <th>stay</th>\n      <th>stay_cate</th>\n      <th>japanese</th>\n      <th>japanese_cate</th>\n      <th>english</th>\n      <th>english_cate</th>\n      <th>intimate</th>\n      <th>religion</th>\n      <th>suicide</th>\n      <th>dep</th>\n      <th>deptype</th>\n      <th>todep</th>\n      <th>depsev</th>\n      <th>tosc</th>\n      <th>apd</th>\n      <th>ahome</th>\n      <th>aph</th>\n      <th>afear</th>\n      <th>acs</th>\n      <th>aguilt</th>\n      <th>amiscell</th>\n      <th>toas</th>\n      <th>partner</th>\n      <th>friends</th>\n      <th>parents</th>\n      <th>relative</th>\n      <th>profess</th>\n      <th>phone</th>\n      <th>doctor</th>\n      <th>reli</th>\n      <th>alone</th>\n      <th>others</th>\n      <th>internet</th>\n      <th>partner_bi</th>\n      <th>friends_bi</th>\n      <th>parents_bi</th>\n      <th>relative_bi</th>\n      <th>professional_bi</th>\n      <th>phone_bi</th>\n      <th>doctor_bi</th>\n      <th>religion_bi</th>\n      <th>alone_bi</th>\n      <th>others_bi</th>\n      <th>internet_bi</th>\n    </tr>\n  </thead>\n  <tbody>\n    <tr>\n      <th>0</th>\n      <td>Inter</td>\n      <td>SEA</td>\n      <td>Male</td>\n      <td>Grad</td>\n      <td>24</td>\n      <td>4</td>\n      <td>5</td>\n      <td>Long</td>\n      <td>3</td>\n      <td>Average</td>\n      <td>5</td>\n      <td>High</td>\n      <td>NaN</td>\n      <td>Yes</td>\n      <td>No</td>\n      <td>No</td>\n      <td>No</td>\n      <td>0</td>\n      <td>Min</td>\n      <td>34</td>\n      <td>23</td>\n      <td>9</td>\n      <td>11</td>\n      <td>8</td>\n      <td>11</td>\n      <td>2</td>\n      <td>27</td>\n      <td>91</td>\n      <td>5</td>\n      <td>5</td>\n      <td>6</td>\n      <td>3</td>\n      <td>2</td>\n      <td>1</td>\n      <td>4</td>\n      <td>1</td>\n      <td>3</td>\n      <td>4</td>\n      <td>NaN</td>\n      <td>Yes</td>\n      <td>Yes</td>\n      <td>Yes</td>\n      <td>No</td>\n      <td>No</td>\n      <td>No</td>\n      <td>No</td>\n      <td>No</td>\n      <td>No</td>\n      <td>No</td>\n      <td>No</td>\n    </tr>\n    <tr>\n      <th>1</th>\n      <td>Inter</td>\n      <td>SEA</td>\n      <td>Male</td>\n      <td>Grad</td>\n      <td>28</td>\n      <td>5</td>\n      <td>1</td>\n      <td>Short</td>\n      <td>4</td>\n      <td>High</td>\n      <td>4</td>\n      <td>High</td>\n      <td>NaN</td>\n      <td>No</td>\n      <td>No</td>\n      <td>No</td>\n      <td>No</td>\n      <td>2</td>\n      <td>Min</td>\n      <td>48</td>\n      <td>8</td>\n      <td>7</td>\n      <td>5</td>\n      <td>4</td>\n      <td>3</td>\n      <td>2</td>\n      <td>10</td>\n      <td>39</td>\n      <td>7</td>\n      <td>7</td>\n      <td>7</td>\n      <td>4</td>\n      <td>4</td>\n      <td>4</td>\n      <td>4</td>\n      <td>1</td>\n      <td>1</td>\n      <td>1</td>\n      <td>NaN</td>\n      <td>Yes</td>\n      <td>Yes</td>\n      <td>Yes</td>\n      <td>No</td>\n      <td>No</td>\n      <td>No</td>\n      <td>No</td>\n      <td>No</td>\n      <td>No</td>\n      <td>No</td>\n      <td>No</td>\n    </tr>\n  </tbody>\n</table>\n</div>"
          },
          "metadata": {
            "application/com.datacamp.data-table.v2+json": {
              "status": "success"
            }
          },
          "execution_count": 23,
          "@datacamp/metadata": {
            "executedQuery": "-- Run this code to view the data in students\nSELECT * \nFROM students\nLIMIT 2;",
            "executedQueryParameters": []
          }
        }
      ]
    },
    {
      "source": "-- Start coding here...\nSELECT stay, COUNT(*) AS count_int, ROUND(AVG(todep), 2) AS average_phq, ROUND(AVG(tosc), 2) AS average_scs, ROUND(AVG(toas), 2) AS average_as\nFROM students\nWHERE inter_dom = 'Inter'\nGROUP BY stay\nHAVING stay > 0\nORDER BY stay DESC;",
      "metadata": {
        "customType": "sql",
        "dataFrameVariableName": "df",
        "sqlCellMode": "dataFrame",
        "sqlSource": {
          "integrationId": "89e17161-a224-4a8a-846b-0adc0fe7a4b1",
          "integrationType": "postgresql",
          "type": "integration"
        },
        "collapsed": false,
        "jupyter": {
          "outputs_hidden": false,
          "source_hidden": false
        },
        "executionCancelledAt": null,
        "executionTime": null,
        "lastExecutedAt": null,
        "lastExecutedByKernel": null,
        "lastScheduledRunId": null,
        "lastSuccessfullyExecutedCode": null,
        "outputsMetadata": {
          "0": {
            "height": 550,
            "type": "dataFrame",
            "tableState": {
              "customFilter": {
                "const": {
                  "type": "boolean",
                  "valid": true,
                  "value": true
                },
                "id": "f228d96b-2c75-4db3-bce5-4f8ce8c0d004",
                "nodeType": "const"
              }
            }
          }
        }
      },
      "id": "ab01f727-3ae9-491a-bf8b-6d507e7dbf15",
      "cell_type": "code",
      "execution_count": 24,
      "outputs": [
        {
          "output_type": "execute_result",
          "data": {
            "application/com.datacamp.data-table.v2+json": {
              "table": {
                "schema": {
                  "fields": [
                    {
                      "name": "index",
                      "type": "integer"
                    },
                    {
                      "name": "stay",
                      "type": "integer"
                    },
                    {
                      "name": "count_int",
                      "type": "integer"
                    },
                    {
                      "name": "average_phq",
                      "type": "number"
                    },
                    {
                      "name": "average_scs",
                      "type": "number"
                    },
                    {
                      "name": "average_as",
                      "type": "number"
                    }
                  ],
                  "primaryKey": [
                    "index"
                  ],
                  "pandas_version": "1.4.0"
                },
                "data": {
                  "index": [
                    0,
                    1,
                    2,
                    3,
                    4,
                    5,
                    6,
                    7,
                    8
                  ],
                  "stay": [
                    10,
                    8,
                    7,
                    6,
                    5,
                    4,
                    3,
                    2,
                    1
                  ],
                  "count_int": [
                    1,
                    1,
                    1,
                    3,
                    1,
                    14,
                    46,
                    39,
                    95
                  ],
                  "average_phq": [
                    13,
                    10,
                    4,
                    6,
                    0,
                    8.57,
                    9.09,
                    8.28,
                    7.48
                  ],
                  "average_scs": [
                    32,
                    44,
                    48,
                    38,
                    34,
                    33.93,
                    37.13,
                    37.08,
                    38.11
                  ],
                  "average_as": [
                    50,
                    65,
                    45,
                    58.67,
                    91,
                    87.71,
                    78,
                    77.67,
                    72.8
                  ]
                }
              },
              "total_rows": 9,
              "truncation_type": null
            },
            "text/plain": "   stay  count_int  average_phq  average_scs  average_as\n0    10          1        13.00        32.00       50.00\n1     8          1        10.00        44.00       65.00\n2     7          1         4.00        48.00       45.00\n3     6          3         6.00        38.00       58.67\n4     5          1         0.00        34.00       91.00\n5     4         14         8.57        33.93       87.71\n6     3         46         9.09        37.13       78.00\n7     2         39         8.28        37.08       77.67\n8     1         95         7.48        38.11       72.80",
            "text/html": "<div>\n<style scoped>\n    .dataframe tbody tr th:only-of-type {\n        vertical-align: middle;\n    }\n\n    .dataframe tbody tr th {\n        vertical-align: top;\n    }\n\n    .dataframe thead th {\n        text-align: right;\n    }\n</style>\n<table border=\"1\" class=\"dataframe\">\n  <thead>\n    <tr style=\"text-align: right;\">\n      <th></th>\n      <th>stay</th>\n      <th>count_int</th>\n      <th>average_phq</th>\n      <th>average_scs</th>\n      <th>average_as</th>\n    </tr>\n  </thead>\n  <tbody>\n    <tr>\n      <th>0</th>\n      <td>10</td>\n      <td>1</td>\n      <td>13.00</td>\n      <td>32.00</td>\n      <td>50.00</td>\n    </tr>\n    <tr>\n      <th>1</th>\n      <td>8</td>\n      <td>1</td>\n      <td>10.00</td>\n      <td>44.00</td>\n      <td>65.00</td>\n    </tr>\n    <tr>\n      <th>2</th>\n      <td>7</td>\n      <td>1</td>\n      <td>4.00</td>\n      <td>48.00</td>\n      <td>45.00</td>\n    </tr>\n    <tr>\n      <th>3</th>\n      <td>6</td>\n      <td>3</td>\n      <td>6.00</td>\n      <td>38.00</td>\n      <td>58.67</td>\n    </tr>\n    <tr>\n      <th>4</th>\n      <td>5</td>\n      <td>1</td>\n      <td>0.00</td>\n      <td>34.00</td>\n      <td>91.00</td>\n    </tr>\n    <tr>\n      <th>5</th>\n      <td>4</td>\n      <td>14</td>\n      <td>8.57</td>\n      <td>33.93</td>\n      <td>87.71</td>\n    </tr>\n    <tr>\n      <th>6</th>\n      <td>3</td>\n      <td>46</td>\n      <td>9.09</td>\n      <td>37.13</td>\n      <td>78.00</td>\n    </tr>\n    <tr>\n      <th>7</th>\n      <td>2</td>\n      <td>39</td>\n      <td>8.28</td>\n      <td>37.08</td>\n      <td>77.67</td>\n    </tr>\n    <tr>\n      <th>8</th>\n      <td>1</td>\n      <td>95</td>\n      <td>7.48</td>\n      <td>38.11</td>\n      <td>72.80</td>\n    </tr>\n  </tbody>\n</table>\n</div>"
          },
          "metadata": {
            "application/com.datacamp.data-table.v2+json": {
              "status": "success"
            }
          },
          "execution_count": 24,
          "@datacamp/metadata": {
            "executedQuery": "-- Start coding here...\nSELECT stay, COUNT(*) AS count_int, ROUND(AVG(todep), 2) AS average_phq, ROUND(AVG(tosc), 2) AS average_scs, ROUND(AVG(toas), 2) AS average_as\nFROM students\nWHERE inter_dom = 'Inter'\nGROUP BY stay\nHAVING stay > 0\nORDER BY stay DESC;",
            "executedQueryParameters": []
          }
        }
      ]
    }
  ],
  "metadata": {
    "colab": {
      "name": "Welcome to DataCamp Workspaces.ipynb",
      "provenance": []
    },
    "kernelspec": {
      "display_name": "Python 3 (ipykernel)",
      "language": "python",
      "name": "python3"
    },
    "language_info": {
      "codemirror_mode": {
        "name": "ipython",
        "version": 3
      },
      "file_extension": ".py",
      "mimetype": "text/x-python",
      "name": "python",
      "nbconvert_exporter": "python",
      "pygments_lexer": "ipython3",
      "version": "3.8.10"
    }
  },
  "nbformat": 4,
  "nbformat_minor": 5
}
